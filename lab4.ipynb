{
 "cells": [
  {
   "cell_type": "code",
   "execution_count": 1,
   "metadata": {},
   "outputs": [
    {
     "name": "stdout",
     "output_type": "stream",
     "text": [
      "Collecting kanren\n",
      "  Downloading https://files.pythonhosted.org/packages/f7/28/2c95935bed9ab8a62f6c2c05339754ef0b85f2bc8f186d7089ed91a1c0b0/kanren-0.2.3.tar.gz\n",
      "Collecting toolz (from kanren)\n",
      "  Using cached https://files.pythonhosted.org/packages/22/8e/037b9ba5c6a5739ef0dcde60578c64d49f45f64c5e5e886531bfbc39157f/toolz-0.10.0.tar.gz\n",
      "Collecting multipledispatch (from kanren)\n",
      "  Downloading https://files.pythonhosted.org/packages/89/79/429ecef45fd5e4504f7474d4c3c3c4668c267be3370e4c2fd33e61506833/multipledispatch-0.6.0-py3-none-any.whl\n",
      "Collecting unification (from kanren)\n",
      "  Downloading https://files.pythonhosted.org/packages/f2/6d/24285df596df88923ceea78d980f5dabd1c511e562d9ec1db305fc7c43cd/unification-0.2.2-py2.py3-none-any.whl\n",
      "Requirement already satisfied: six in /home/manapov/miniconda3/envs/imgread/lib/python3.5/site-packages (from multipledispatch->kanren) (1.12.0)\n",
      "Building wheels for collected packages: kanren, toolz\n",
      "  Running setup.py bdist_wheel for kanren ... \u001b[?25ldone\n",
      "\u001b[?25h  Stored in directory: /home/manapov/.cache/pip/wheels/35/88/2f/39231696c71f804e59a7c44e089bc775c620ab22ed31354c7a\n",
      "  Running setup.py bdist_wheel for toolz ... \u001b[?25ldone\n",
      "\u001b[?25h  Stored in directory: /home/manapov/.cache/pip/wheels/e1/8b/65/3294e5b727440250bda09e8c0153b7ba19d328f661605cb151\n",
      "Successfully built kanren toolz\n",
      "Installing collected packages: toolz, multipledispatch, unification, kanren\n",
      "Successfully installed kanren-0.2.3 multipledispatch-0.6.0 toolz-0.10.0 unification-0.2.2\n",
      "\u001b[33mYou are using pip version 10.0.1, however version 20.0.2 is available.\n",
      "You should consider upgrading via the 'pip install --upgrade pip' command.\u001b[0m\n"
     ]
    }
   ],
   "source": [
    "!pip install kanren"
   ]
  },
  {
   "cell_type": "code",
   "execution_count": 8,
   "metadata": {},
   "outputs": [],
   "source": [
    "from kanren import *\n",
    "from kanren.core import lall"
   ]
  },
  {
   "cell_type": "code",
   "execution_count": 3,
   "metadata": {},
   "outputs": [],
   "source": [
    "def left(q, p, list):\n",
    "    return membero((q,p), zip(list, list[1:]))\n",
    "\n",
    "def next(q, p, list):\n",
    "    return conde([left(q, p, list)], [left(p, q, list)])"
   ]
  },
  {
   "cell_type": "code",
   "execution_count": 9,
   "metadata": {},
   "outputs": [],
   "source": [
    "ships=var()"
   ]
  },
  {
   "cell_type": "markdown",
   "metadata": {},
   "source": [
    "Каждому кораблю — в свой порт\n",
    "В порте пять кораблей.\n",
    "1. Греческий корабль отчаливает в шесть. Он везет кофе.\n",
    "2. У корабля, который в середине — черная труба.\n",
    "3. Английский корабль отплывает в девять.\n",
    "4. Французский корабль, у которого синяя труба, пришвартован слева от корабля, который везет кофе.\n",
    "5. Справа от корабля, на котором груз какао, корабль, который плывет в Марсель.\n",
    "6. Корабль под бразильским флагом направляется на Манилы.\n",
    "7. Рядом с кораблем, на котором рис, — корабль с зеленой трубой.\n",
    "8. Корабль, плывущий в Геную, отходит в пять.\n",
    "9. Испанский корабль отплывает в семь и находится справа от корабля, плывущего в Марсель.\n",
    "10. Корабль с красной трубой направляется в Гамбург.\n",
    "11. Рядом с кораблем, который отчаливает в семь, корабль с белой трубой.\n",
    "12. На крайнем корабле — зерно.\n",
    "13. Корабль с черной трубой отплывает в восемь.\n",
    "14. Корабль с зерном пришвартован рядом с кораблем, на котором груз риса.\n",
    "15. Корабль, следующий до Гамбурга, отчаливает в 6.\n",
    "Вопрос:\n",
    "Который корабль плывет в Порт-Саид? Который гружен чаем?"
   ]
  },
  {
   "cell_type": "code",
   "execution_count": 10,
   "metadata": {},
   "outputs": [],
   "source": [
    "rules = lall(\n",
    "    #lall - goal conjunction, lany - disjunction\n",
    "    \n",
    "    #1.Флаг, 2.что везет, 3.отчаливает во сколько, 4.куда, 5.цвет трубы\n",
    "    (eq, (var(), var(), var(), var(), var()), ships),\n",
    "    (membero,('Греческий', 'кофе', '6', var(), var()), ships),\n",
    "    (eq, (var(), var(), (var(), var(), var(), var(), 'черная'), var(), var()), ships),\n",
    "    (membero,('Английский', var(), '9', var(), var()), ships),\n",
    "    (left, (var(), 'кофе', var(), var(), var()), ('Французский', var(), var(), var(), 'синяя'), ships),\n",
    "    (left, (var(), var(), var(), 'Марсель', var()), (var(), 'какао', var(), var(), var()), ships),\n",
    "    (membero,('Бразильский', var(), var(), 'Манилы', var()), ships),\n",
    "    (next,(var(), var(), var(), var(), 'зеленая'), (var(), 'рис', var(), var(), var()), ships),\n",
    "    (membero,(var(), var(), '5', 'Генуя', var()), ships),\n",
    "    (left,('Испанский', var(), '7', var(), var()), (var(), var(), var(), 'Марсель', var()), ships),\n",
    "    (membero,(var(), var(), var(), 'Гамбург', 'красная'), ships),\n",
    "    (next,(var(), var(), var(), var(), 'белая'),(var(), var(), '7', var(), var()), ships),\n",
    "    (eq,((var(), 'зерно', var(), var(), var()), var(), var(), var(), var()), ships),\n",
    "    (membero,(var(), var(), '8', var(), 'черная'), ships),\n",
    "    (next,(var(), 'зерно', var(), var(), var()),(var(), 'рис', var(), var(), var()), ships),\n",
    "    (membero,(var(), var(), '6', 'Гамбург', var()), ships),\n",
    "    \n",
    "    (membero,(var(), var(), var(), 'Порт-Саид', var()), ships),\n",
    "    (membero,(var(), 'чай', var(), var(), var()), ships)\n",
    ")\n",
    "    \n",
    "    "
   ]
  },
  {
   "cell_type": "code",
   "execution_count": 11,
   "metadata": {},
   "outputs": [],
   "source": [
    "solutions = run(2, ships, rules)"
   ]
  },
  {
   "cell_type": "code",
   "execution_count": 12,
   "metadata": {},
   "outputs": [
    {
     "data": {
      "text/plain": [
       "((('Испанский', 'зерно', '7', 'Порт-Саид', 'зеленая'),\n",
       "  ('Английский', 'рис', '9', 'Марсель', 'белая'),\n",
       "  ('Бразильский', 'какао', '8', 'Манилы', 'черная'),\n",
       "  ('Греческий', 'кофе', '6', 'Гамбург', 'красная'),\n",
       "  ('Французский', 'чай', '5', 'Генуя', 'синяя')),)"
      ]
     },
     "execution_count": 12,
     "metadata": {},
     "output_type": "execute_result"
    }
   ],
   "source": [
    "solutions"
   ]
  },
  {
   "cell_type": "markdown",
   "metadata": {},
   "source": [
    "Вопрос: Который корабль плывет в Порт-Саид? Который гружен чаем?"
   ]
  },
  {
   "cell_type": "markdown",
   "metadata": {},
   "source": [
    "Испанский плывет в Порт-Саид.\n",
    "Французский гружен чаем"
   ]
  },
  {
   "cell_type": "code",
   "execution_count": null,
   "metadata": {},
   "outputs": [],
   "source": []
  }
 ],
 "metadata": {
  "kernelspec": {
   "display_name": "Python 3",
   "language": "python",
   "name": "python3"
  },
  "language_info": {
   "codemirror_mode": {
    "name": "ipython",
    "version": 3
   },
   "file_extension": ".py",
   "mimetype": "text/x-python",
   "name": "python",
   "nbconvert_exporter": "python",
   "pygments_lexer": "ipython3",
   "version": "3.5.6"
  }
 },
 "nbformat": 4,
 "nbformat_minor": 4
}
