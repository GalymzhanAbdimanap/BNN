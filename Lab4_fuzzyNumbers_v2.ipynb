{
 "cells": [
  {
   "cell_type": "markdown",
   "metadata": {
    "colab_type": "text",
    "id": "2-LKSTOBciPO"
   },
   "source": [
    "### Laboratory work 5: Fuzzy Numbers\n",
    "The task of the lab is to develop the fuzzy operations:\n",
    "* Division in the method __truediv__\n",
    "* Summation in the method __add__"
   ]
  },
  {
   "cell_type": "code",
   "execution_count": 1,
   "metadata": {
    "colab": {},
    "colab_type": "code",
    "id": "LZUfuApMcLPd"
   },
   "outputs": [],
   "source": [
    "import numpy as np\n",
    "import matplotlib.pyplot as plt\n",
    "from functools import partial"
   ]
  },
  {
   "cell_type": "code",
   "execution_count": null,
   "metadata": {},
   "outputs": [],
   "source": [
    "public Domain(double min, double max, double precision=0.01)\n",
    "        {\n",
    "            Max = max;\n",
    "            Min = min;\n",
    "            Precision = precision;\n",
    "            ArrayLength = (int)((Max - Min) / Precision) + 10;\n",
    "        }"
   ]
  },
  {
   "cell_type": "code",
   "execution_count": null,
   "metadata": {},
   "outputs": [],
   "source": [
    "def Domain(min_el, max_el, precision=0.1):\n",
    "    Min_el = min_el\n",
    "    Max_el = max_el\n",
    "    Precision = precision\n",
    "    "
   ]
  },
  {
   "cell_type": "code",
   "execution_count": null,
   "metadata": {},
   "outputs": [],
   "source": [
    "values=[]\n",
    "\n",
    "class FuzzyNumber:\n",
    "    \n",
    "    def __init__(self, domain_) -> None:\n",
    "        self.__values = None;\n",
    "        self.domain = None;\n",
    "        self.domain = (domain_)\n",
    "        self.__values = Utils.newArray(domain_.ArrayLength, 0)\n",
    "        \n",
    "        \n",
    "    def get_indexer_item(self, x : float) -> float:\n",
    "        if ((x < Domain.Min) or x > Domain.Max): \n",
    "            return 0\n",
    "        return values[Domain.ToInt(x) # error ]\n",
    "\n",
    "    def set_indexer_item(self, x : float, value : float) -> float:\n",
    "        values[Domain.ToInt(x) # error ] = (value)\n",
    "        return value\n",
    "\n"
   ]
  },
  {
   "cell_type": "code",
   "execution_count": null,
   "metadata": {},
   "outputs": [],
   "source": []
  },
  {
   "cell_type": "code",
   "execution_count": 53,
   "metadata": {
    "colab": {
     "base_uri": "https://localhost:8080/",
     "height": 50
    },
    "colab_type": "code",
    "executionInfo": {
     "elapsed": 1507,
     "status": "ok",
     "timestamp": 1584368816484,
     "user": {
      "displayName": "Александр Пак",
      "photoUrl": "https://lh3.googleusercontent.com/a-/AOh14GjdCzf4-MPtNgWKgC53bEiRt-B4C0b6WppV7lwh=s64",
      "userId": "15550640353612535544"
     },
     "user_tz": -360
    },
    "id": "v8F6CuBUcDnl",
    "outputId": "7b9f687c-64c9-4754-82f2-8708996ce6fe"
   },
   "outputs": [],
   "source": [
    "def mu_max(val,width,x):\n",
    "    buff = ((x-val)/width)*((x-val)/width)\n",
    "    #print(max(0,1-buff))\n",
    "    return max(0,1-buff)  \n",
    "\n",
    "\n",
    "class FuzzyValue():\n",
    "    \n",
    "    def __init__(self,val,width,mu = None):\n",
    "        self.val = float(val)\n",
    "        self.width = float(width)\n",
    "        self.precision=0.2\n",
    "        self.max_el = self.val+self.width\n",
    "        self.min_el = self.val-self.width\n",
    "        self.values=[]\n",
    "        self.fuzzyNumbers = self.max_el-self.min_el\n",
    "        self.loop = round(self.fuzzyNumbers/self.precision)\n",
    "        a = self.min_el\n",
    "        for i in range(0,self.loop+1):\n",
    "            self.values.append(a)\n",
    "            a = a + self.precision\n",
    "        \n",
    "        \n",
    "        if mu is not None:\n",
    "            self.mu = partial(mu,self.val,self.width)\n",
    "            #print(self.mu)\n",
    "        self.op = None\n",
    "    \n",
    "\n",
    "    def __call__(self,x):\n",
    "        if self.mu is not None:\n",
    "            return float(self.mu(x))\n",
    "\n",
    "\n",
    "    def __truediv__(self, o):\n",
    "        # Put your code here\n",
    "        maximum_global=10\n",
    "        minimum_global=-10\n",
    "\n",
    "        \n",
    "        if self.max_el>o.max_el:\n",
    "            maximum = o.max_el\n",
    "        else:\n",
    "             maximum = self.max_el\n",
    "        if self.min_el<o.min_el:\n",
    "            minimum = o.min_el\n",
    "        else:\n",
    "            minimum = self.min_el\n",
    "        \n",
    "        conv1 = [i for i in self.values if i>=minimum and i<=maximum+0.2]\n",
    "        conv2 = [i for i in o.values if i>=minimum and i<=maximum+0.2]\n",
    "        \n",
    "        prec1 = []\n",
    "        precision1=1.0\n",
    "        for i in range(len(conv1)):\n",
    "            prec1.append(precision1)\n",
    "            precision1-=self.precision\n",
    "        prec1[-1] = float(round(prec1[-1]))\n",
    "        \n",
    "        prec2=[]\n",
    "        precision2=0.0\n",
    "        for i in range(len(conv2)):\n",
    "            prec2.append(precision2)\n",
    "            precision2+=self.precision\n",
    "            \n",
    "        result=conv1\n",
    "        value3=[]\n",
    "        prec3=[]\n",
    "        for ind, a in enumerate(conv1):\n",
    "            for ind1,b in enumerate(conv1):\n",
    "                value=a/b\n",
    "                prec3.append(min(prec1[ind], prec2[ind1]))\n",
    "                #print(value)\n",
    "                if value<minimum_global or value>maximum_global:\n",
    "                    continue\n",
    "                else:\n",
    "                    value3.append(value)\n",
    "                    result[ind] = max(value, (a*b))\n",
    "        \n",
    "        index_max = prec3.index(max(prec3))\n",
    "        index_min = prec3.index(min(prec3))\n",
    "        #print(value3[index_max], value3[index_min])\n",
    "        return value3[index_max], value3[index_min]\n",
    "       \n",
    "        #return max(self.val/o.val, self.val/o.width, self.width/o.val, self.width/o.width), min(self.val/o.val, self.val/o.width, self.width/o.val, self.width/o.width)\n",
    "        #return FuzzyValue(self.val/o.val,self.width+o.width)\n",
    "\n",
    "    def __add__(self, o): \n",
    "        # Put your code here\n",
    "        self.op = o\n",
    "        maximum_global=10\n",
    "        minimum_global=-10\n",
    "        \n",
    "    \n",
    "        if self.max_el>o.max_el:\n",
    "            maximum = o.max_el\n",
    "        else:\n",
    "             maximum = self.max_el\n",
    "        if self.min_el<o.min_el:\n",
    "            minimum = o.min_el\n",
    "        else:\n",
    "            minimum = self.min_el\n",
    "        \n",
    "        conv1 = [i for i in self.values if i>=minimum and i<=maximum+0.2]\n",
    "        conv2 = [i for i in o.values if i>=minimum and i<=maximum+0.2]\n",
    "        \n",
    "        prec1 = []\n",
    "        precision1=1.0\n",
    "        for i in range(len(conv1)):\n",
    "            prec1.append(precision1)\n",
    "            precision1-=self.precision\n",
    "        prec1[-1] = float(round(prec1[-1]))\n",
    "        \n",
    "        prec2=[]\n",
    "        precision2=0.0\n",
    "        for i in range(len(conv2)):\n",
    "            prec2.append(precision2)\n",
    "            precision2+=self.precision\n",
    "            \n",
    "        result=conv1\n",
    "        value3=[]\n",
    "        prec3 = []\n",
    "        for ind, a in enumerate(conv1):\n",
    "            for ind1,b in enumerate(conv1):\n",
    "                value=a+b\n",
    "                #print(value)\n",
    "                prec3.append(min(prec1[ind], prec2[ind1]))\n",
    "                if value<minimum_global or value>maximum_global:\n",
    "                    continue\n",
    "                else:\n",
    "                    value3.append(value)\n",
    "                    result[ind] = max(value, (a*b))\n",
    "        \n",
    "        index_max = prec3.index(max(prec3))\n",
    "        index_min = prec3.index(min(prec3))\n",
    "        #print(value3[index_max], value3[index_min])\n",
    "        return value3[index_max], value3[index_min]\n",
    "        \n",
    "    \n",
    "    \n",
    "    def draw(self):\n",
    "        xs = np.linspace(-7,14,num=1000)\n",
    "        y = [self(x) for x in xs]\n",
    "        plt.figure()\n",
    "        plt.plot(xs,y)        \n",
    "\n",
    "a = FuzzyValue(3,1,mu_max)\n",
    "b = FuzzyValue(4,1,mu_max)\n",
    "# (a+b).draw()\n",
    "#print(b(3))\n",
    "#c=a+b\n",
    "#d=\n",
    "\n"
   ]
  },
  {
   "cell_type": "code",
   "execution_count": 49,
   "metadata": {},
   "outputs": [
    {
     "name": "stdout",
     "output_type": "stream",
     "text": [
      "7.000000000000003 6.000000000000002\n",
      "(7.000000000000003, 6.000000000000002)\n"
     ]
    }
   ],
   "source": [
    "print(a+b)\n",
    "#print(a/b)"
   ]
  },
  {
   "cell_type": "code",
   "execution_count": 8,
   "metadata": {},
   "outputs": [
    {
     "data": {
      "text/plain": [
       "<__main__.FuzzyValue at 0x15e476d3f60>"
      ]
     },
     "execution_count": 8,
     "metadata": {},
     "output_type": "execute_result"
    }
   ],
   "source": [
    "a"
   ]
  },
  {
   "cell_type": "code",
   "execution_count": 54,
   "metadata": {
    "colab": {
     "base_uri": "https://localhost:8080/",
     "height": 282
    },
    "colab_type": "code",
    "executionInfo": {
     "elapsed": 1111,
     "status": "ok",
     "timestamp": 1584368818233,
     "user": {
      "displayName": "Александр Пак",
      "photoUrl": "https://lh3.googleusercontent.com/a-/AOh14GjdCzf4-MPtNgWKgC53bEiRt-B4C0b6WppV7lwh=s64",
      "userId": "15550640353612535544"
     },
     "user_tz": -360
    },
    "id": "dAb_qAfQcSsd",
    "outputId": "ec0c3a33-3128-4487-93d9-b2dd3c9be11d",
    "scrolled": true
   },
   "outputs": [
    {
     "data": {
      "image/png": "[encoded data removed]",
      "text/plain": [
       "<Figure size 432x288 with 1 Axes>"
      ]
     },
     "metadata": {
      "needs_background": "light"
     },
     "output_type": "display_data"
    }
   ],
   "source": [
    "res_add = a+b\n",
    "add_val = FuzzyValue(res_add[0],res_add[1],mu_max)\n",
    "add_val.draw()"
   ]
  },
  {
   "cell_type": "code",
   "execution_count": 55,
   "metadata": {
    "colab": {
     "base_uri": "https://localhost:8080/",
     "height": 1000
    },
    "colab_type": "code",
    "executionInfo": {
     "elapsed": 1107,
     "status": "ok",
     "timestamp": 1584368787906,
     "user": {
      "displayName": "Александр Пак",
      "photoUrl": "https://lh3.googleusercontent.com/a-/AOh14GjdCzf4-MPtNgWKgC53bEiRt-B4C0b6WppV7lwh=s64",
      "userId": "15550640353612535544"
     },
     "user_tz": -360
    },
    "id": "JVt8GdQkvPtM",
    "outputId": "42c71141-2074-4942-97ba-3b8a598f90dc"
   },
   "outputs": [
    {
     "data": {
      "image/png": "[encoded data removed]",
      "text/plain": [
       "<Figure size 432x288 with 1 Axes>"
      ]
     },
     "metadata": {
      "needs_background": "light"
     },
     "output_type": "display_data"
    }
   ],
   "source": [
    "res_div = a/b\n",
    "div_val = FuzzyValue(res_div[0],res_div[1],mu_max)\n",
    "div_val.draw()"
   ]
  },
  {
   "cell_type": "code",
   "execution_count": null,
   "metadata": {},
   "outputs": [],
   "source": [
    "def mu_max(val,width,x):\n",
    "    buff = ((x-val)/width)*((x-val)/width)\n",
    "    print(max(0,1-buff))\n",
    "    return max(0,1-buff)  \n",
    "\n",
    "\n",
    "class FuzzyValue():\n",
    "    \n",
    "    def __init__(self,val,width,mu = None):\n",
    "        self.val = float(val)\n",
    "        self.width = float(width)\n",
    "        self.precision=0.2\n",
    "        self.max_el = self.val+self.width\n",
    "        self.min_el = self.val-self.width\n",
    "        self.values=[]\n",
    "        self.fuzzyNumbers = self.max_el-self.min_el\n",
    "        self.loop = round(self.fuzzyNumbers/self.precision)\n",
    "        a = self.min_el\n",
    "        for i in range(0,self.loop+1):\n",
    "            self.values.append(a)\n",
    "            a = a + self.precision\n",
    "        \n",
    "        \n",
    "        if mu is not None:\n",
    "            self.mu = partial(mu,self.val,self.width)\n",
    "            print(self.mu)\n",
    "        self.op = None\n",
    "    \n",
    "\n",
    "    def __call__(self,x):\n",
    "        if self.mu is not None:\n",
    "            return float(self.mu(x))\n",
    "\n",
    "\n",
    "    def __truediv__(self, o):\n",
    "        # Put your code here\n",
    "        maximum_global=10\n",
    "        minimum_global=-10\n",
    "        \n",
    "        \n",
    "        \n",
    "        \n",
    "        if self.max_el>o.max_el:\n",
    "            maximum = o.max_el\n",
    "        else:\n",
    "             maximum = self.max_el\n",
    "        if self.min_el<o.min_el:\n",
    "            minimum = o.min_el\n",
    "        else:\n",
    "            minimum = self.min_el\n",
    "        \n",
    "        conv1 = [i for i in self.values if i>=minimum and i<=maximum+0.2]\n",
    "        conv2 = [i for i in o.values if i>=minimum and i<=maximum+0.2]\n",
    "        \n",
    "        prec1 = []\n",
    "        precision1=1.0\n",
    "        for i in range(len(conv1)):\n",
    "            prec1.append(precision1)\n",
    "            precision1-=self.precision\n",
    "        prec1[-1] = float(round(prec1[-1]))\n",
    "        \n",
    "        prec2=[]\n",
    "        precision2=0.0\n",
    "        for i in range(len(conv2)):\n",
    "            prec2.append(precision2)\n",
    "            precision2+=self.precision\n",
    "            \n",
    "        result=conv1\n",
    "        value1=[]\n",
    "        #result=[]\n",
    "        for ind, a in enumerate(conv1):\n",
    "            for ind,b in enumerate(conv1):\n",
    "                value=a/b\n",
    "                #print(value)\n",
    "                if value<minimum_global or value>maximum_global:\n",
    "                    continue\n",
    "                else:\n",
    "                    value1.append(value)\n",
    "                    result[ind] = max(value, (a*b))\n",
    "        \n",
    "        \n",
    "        #print(value1)\n",
    "        print(max(result))\n",
    "        #print(conv1)\n",
    "        #print(prec1)\n",
    "        #print(conv2)\n",
    "        #print(prec2)\n",
    "        '''for i in self.values:\n",
    "            for j in o.values:'''\n",
    "                \n",
    "        \n",
    "        \n",
    "        \n",
    "        \n",
    "        #return max(self.val/o.val, self.val/o.width, self.width/o.val, self.width/o.width), min(self.val/o.val, self.val/o.width, self.width/o.val, self.width/o.width)\n",
    "        #return FuzzyValue(self.val/o.val,self.width+o.width)\n",
    "\n",
    "    def __add__(self, o): \n",
    "        # Put your code here\n",
    "        self.op = o\n",
    "        maximum_global=10\n",
    "        minimum_global=-10\n",
    "        '''print(self.val, o.val)\n",
    "        print(self.width, o.width)\n",
    "        return self.val+o.val, self.width+o.width'''\n",
    "    \n",
    "        if self.max_el>o.max_el:\n",
    "            maximum = o.max_el\n",
    "        else:\n",
    "             maximum = self.max_el\n",
    "        if self.min_el<o.min_el:\n",
    "            minimum = o.min_el\n",
    "        else:\n",
    "            minimum = self.min_el\n",
    "        \n",
    "        conv1 = [i for i in self.values if i>=minimum and i<=maximum+0.2]\n",
    "        conv2 = [i for i in o.values if i>=minimum and i<=maximum+0.2]\n",
    "        \n",
    "        prec1 = []\n",
    "        precision1=1.0\n",
    "        for i in range(len(conv1)):\n",
    "            prec1.append(precision1)\n",
    "            precision1-=self.precision\n",
    "        prec1[-1] = float(round(prec1[-1]))\n",
    "        \n",
    "        prec2=[]\n",
    "        precision2=0.0\n",
    "        for i in range(len(conv2)):\n",
    "            prec2.append(precision2)\n",
    "            precision2+=self.precision\n",
    "            \n",
    "        result=conv1\n",
    "        value1=[]\n",
    "        #result=[]\n",
    "        for ind, a in enumerate(conv1):\n",
    "            for ind,b in enumerate(conv1):\n",
    "                value=a+b\n",
    "                #print(value)\n",
    "                if value<minimum_global or value>maximum_global:\n",
    "                    continue\n",
    "                else:\n",
    "                    value1.append(value)\n",
    "                    result[ind] = max(value, (a*b))\n",
    "        \n",
    "        \n",
    "        print(result)\n",
    "        print(max(result))\n",
    "    \n",
    "    \n",
    "    def draw(self):\n",
    "        xs = np.linspace(-7,14,num=1000)\n",
    "        y = [self(x) for x in xs]\n",
    "        plt.figure()\n",
    "        plt.plot(xs,y)        \n",
    "\n",
    "a = FuzzyValue(3,1,mu_max)\n",
    "b = FuzzyValue(4,1,mu_max)\n",
    "# (a+b).draw()\n",
    "#print(b(3))\n",
    "#c=a+b\n",
    "#d=\n",
    "\n"
   ]
  }
 ],
 "metadata": {
  "colab": {
   "authorship_tag": "ABX9TyNytzTs+jQqUQVDMeudwdg1",
   "name": "Lab5.ipynb",
   "provenance": []
  },
  "kernelspec": {
   "display_name": "Python 3",
   "language": "python",
   "name": "python3"
  },
  "language_info": {
   "codemirror_mode": {
    "name": "ipython",
    "version": 3
   },
   "file_extension": ".py",
   "mimetype": "text/x-python",
   "name": "python",
   "nbconvert_exporter": "python",
   "pygments_lexer": "ipython3",
   "version": "3.6.10"
  }
 },
 "nbformat": 4,
 "nbformat_minor": 1
}
