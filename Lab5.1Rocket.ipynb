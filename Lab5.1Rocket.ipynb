{
 "cells": [
  {
   "cell_type": "code",
   "execution_count": 1,
   "metadata": {
    "colab": {},
    "colab_type": "code",
    "id": "twBmPWIxDeal"
   },
   "outputs": [],
   "source": [
    "import numpy as np\n",
    "import matplotlib.pyplot as plt\n",
    "from PIL import Image\n",
    "import matplotlib.animation as animation\n",
    "from IPython.display import HTML\n",
    "from skimage import draw\n",
    "%matplotlib inline\n",
    "#comment                                                                           "
   ]
  },
  {
   "cell_type": "code",
   "execution_count": 2,
   "metadata": {
    "colab": {},
    "colab_type": "code",
    "id": "UYGJsE-zDear"
   },
   "outputs": [],
   "source": [
    "def plot_images(img_list):\n",
    "    def init():\n",
    "        img.set_data(img_list[0])\n",
    "        return (img,)\n",
    "\n",
    "    def animate(i):\n",
    "        img.set_data(img_list[i])\n",
    "        return (img,)\n",
    "\n",
    "    plt.figure(figsize = (15,15))\n",
    "    fig = plt.figure()\n",
    "    ax = fig.gca()\n",
    "    img = ax.imshow(img_list[0])\n",
    "    anim = animation.FuncAnimation(fig, animate, init_func=init,\n",
    "                                 frames=len(img_list), interval=20, blit=True)\n",
    "    return anim\n"
   ]
  },
  {
   "cell_type": "code",
   "execution_count": 3,
   "metadata": {
    "colab": {},
    "colab_type": "code",
    "id": "Gc_r3VOJDeat"
   },
   "outputs": [],
   "source": [
    "class World():\n",
    "    def __init__(self,rocket,target,width=768,height=640,stop_limit=100):\n",
    "        self.rocket = rocket\n",
    "        self.target = target\n",
    "        self.width = width\n",
    "        self.height = height\n",
    "        self.time = 0\n",
    "        self.stop_limit = stop_limit\n",
    "        self.worlds = [np.ones((width,height),dtype=np.uint8)]\n",
    "        self.distance = []\n",
    "        \n",
    "    \n",
    "    def gen_img(self,world):\n",
    "        buff = np.array((world,world,world))*255\n",
    "        return buff.reshape(self.width,self.height,3)\n",
    "    \n",
    "    def run(self):\n",
    "        print(\"Run the world\")\n",
    "\n",
    "        while True:\n",
    "            self.time = self.time + 1\n",
    "            xt,yt = self.target.move(self.time)\n",
    "            xr,yr = self.rocket.move(self.time,self.target)\n",
    "            self.distance.append(np.linalg.norm(np.array([xt,yt])-np.array([xr,yr])))\n",
    "            rt, ct = draw.circle(int(xt), int(yt), radius=10, shape=self.worlds[-1].shape)\n",
    "            self.worlds[-1][rt,ct]=0\n",
    "            rr, cr = draw.circle(int(xr), int(yr), radius=10, shape=self.worlds[-1].shape)\n",
    "            self.worlds[-1][rr,cr]=0\n",
    "            self.worlds.append(np.ones((self.width,self.height),dtype=np.uint8))\n",
    "            if self.time>self.stop_limit:\n",
    "                print(len(self.worlds))\n",
    "                print(\"Stop the world\")\n",
    "                break\n",
    "            if self.distance[-1]<10:\n",
    "                break\n",
    "        return self.worlds\n"
   ]
  },
  {
   "cell_type": "code",
   "execution_count": 4,
   "metadata": {
    "colab": {},
    "colab_type": "code",
    "id": "19PtinByDeaw"
   },
   "outputs": [],
   "source": [
    "class RectRocket():\n",
    "    def __init__(self,x0,y0,v,angle):\n",
    "        self.x = x0\n",
    "        self.y = y0\n",
    "        self.v = v\n",
    "        self.angle = angle\n",
    "    \n",
    "    def move(self,time,target):\n",
    "        deltax = self.x - target.x\n",
    "        deltay = self.y - target.y\n",
    "        # Put your code here\n",
    "        # Calculate your angle and apply it to new (x,y) coords\n",
    "        # Steps:\n",
    "        # 1. Calculate alpha = arctan(deltax/deltay)\n",
    "        # 2. Calcualte new_x = old_x + sin/cos(alpha)*v\n",
    "        old_x = self.x\n",
    "        alpha = np.arctan(deltax/deltay)\n",
    "        new_x = old_x + (np.sin(alpha)/np.cos(alpha))*self.v\n",
    "        self.x = new_x\n",
    "        self.x = self.x - self.v\n",
    "        self.y = self.y - np.sign(deltay)*self.v\n",
    "        return (self.x,self.y)\n",
    "    \n",
    "    \n",
    "class Target():\n",
    "    def __init__(self,r1,f1,r2,f2,x0,y0):\n",
    "        self.x0 = x0\n",
    "        self.y0 = y0\n",
    "        self.r1 = r1\n",
    "        self.f1 = f1\n",
    "        self.r2 = r2\n",
    "        self.f2 = f2\n",
    "        self.move(0)\n",
    "        \n",
    "    def move(self,time):\n",
    "        self.x = self.x0 + self.r1 * np.cos(time*2*np.pi*self.f1) + self.r2 * np.cos(time*2*np.pi*self.f2)\n",
    "        self.y = self.y0 + self.r1 * np.sin(time*2*np.pi*self.f1) + self.r2 * np.sin(time*2*np.pi*self.f2)\n",
    "        return (self.x,self.y)"
   ]
  },
  {
   "cell_type": "code",
   "execution_count": 19,
   "metadata": {
    "colab": {
     "base_uri": "https://localhost:8080/",
     "height": 594
    },
    "colab_type": "code",
    "id": "N6Fd5dmhDeay",
    "outputId": "f4453f5f-3923-4335-c12c-ea3ebf6da3bf"
   },
   "outputs": [
    {
     "name": "stdout",
     "output_type": "stream",
     "text": [
      "Run the world\n"
     ]
    },
    {
     "data": {
      "text/html": [
       "<video width=\"432\" height=\"288\" controls autoplay loop>\n",
       "  <source type=\"video/mp4\" src=\"data:video/mp4;base64,AAAAHGZ0eXBNNFYgAAACAGlzb21pc28yYXZjMQAAAAhmcmVlAAAQTW1kYXQAAAKuBgX//6rcRem9\n",
       "5tlIt5Ys2CDZI+7veDI2NCAtIGNvcmUgMTU4IHIyOTg0IDM3NTlmY2IgLSBILjI2NC9NUEVHLTQg\n",
       "QVZDIGNvZGVjIC0gQ29weWxlZnQgMjAwMy0yMDE5IC0gaHR0cDovL3d3dy52aWRlb2xhbi5vcmcv\n",
       "eDI2NC5odG1sIC0gb3B0aW9uczogY2FiYWM9MSByZWY9MyBkZWJsb2NrPTE6MDowIGFuYWx5c2U9\n",
       "MHgzOjB4MTEzIG1lPWhleCBzdWJtZT03IHBzeT0xIHBzeV9yZD0xLjAwOjAuMDAgbWl4ZWRfcmVm\n",
       "PTEgbWVfcmFuZ2U9MTYgY2hyb21hX21lPTEgdHJlbGxpcz0xIDh4OGRjdD0xIGNxbT0wIGRlYWR6\n",
       "b25lPTIxLDExIGZhc3RfcHNraXA9MSBjaHJvbWFfcXBfb2Zmc2V0PS0yIHRocmVhZHM9NiBsb29r\n",
       "YWhlYWRfdGhyZWFkcz0xIHNsaWNlZF90aHJlYWRzPTAgbnI9MCBkZWNpbWF0ZT0xIGludGVybGFj\n",
       "ZWQ9MCBibHVyYXlfY29tcGF0PTAgY29uc3RyYWluZWRfaW50cmE9MCBiZnJhbWVzPTMgYl9weXJh\n",
       "bWlkPTIgYl9hZGFwdD0xIGJfYmlhcz0wIGRpcmVjdD0xIHdlaWdodGI9MSBvcGVuX2dvcD0wIHdl\n",
       "aWdodHA9MiBrZXlpbnQ9MjUwIGtleWludF9taW49MjUgc2NlbmVjdXQ9NDAgaW50cmFfcmVmcmVz\n",
       "aD0wIHJjX2xvb2thaGVhZD00MCByYz1jcmYgbWJ0cmVlPTEgY3JmPTIzLjAgcWNvbXA9MC42MCBx\n",
       "cG1pbj0wIHFwbWF4PTY5IHFwc3RlcD00IGlwX3JhdGlvPTEuNDAgYXE9MToxLjAwAIAAAAehZYiE\n",
       "AC///vau/MsrRwuVLh1Ze7NR8uhJcv2IMH1oAAADAADVaeUGUqI74PKIfUBCAGPovHJ49d+7hP3M\n",
       "YPyCSnVLiI+HAAA0p8RJDdg++uEiHK74whKLiD4h+oYayVNKpSwnLuOQF06pR1oWpoT+nLT/zEjX\n",
       "RhN/o5foeRbNfK+ewzDbniFQCMh+Zui7eSIPUxZAHTTJoHPKLJt/yVILjC84lbQfBS5KLnH90kdN\n",
       "1Um8xD16COxy6DzG4L0bxyzqkFnKKa7xvf0orwiAqJhdXVIcbCHDItVpNB4gDlwMyGrWEu+TWQeW\n",
       "I47j2PMAzVdzitTILz9KIkaJQo12Jv9hkEsghmwSxaAUjXAAWLKI8O376/eXcAIV5VqY7z7GcbXg\n",
       "pSRnDR50SleXfPRPYSL1PKnMua2f/snQdlzZm3SqplqHw9TJX/Wjhk0PdSHHyTjKexv81rFccGJC\n",
       "D0Bnq+bDve1UyCsH5adfrWtJKh4NeYkyW2dkdpopSUEye3poaQxgVsN2JnTdg+ysfchhXv2Ndxv9\n",
       "vuRv6lLqwEOqxbUuuHCJSNzoxZ5R/UILdkmjbtDrw2ZVW7TCI3XmPm6sbhB2ejEsNt4L3U+Iv5ku\n",
       "fvJxYNX0X/hDfLtzgpfFXif2digKo2rbl2pe8IA+ogyFqkTnDpX06Tlc9L1ZhlkmksFpkF9cWrey\n",
       "2KQY9dmbkTILvfoCYz630GruEEzdzd3+zMEx746+TKqDaVIUHJji9r5Em5+O+j59/wQs+Pu2X2D9\n",
       "HXfSuDprFEIlOFssSDkS1QgM7LhvQNEYFyzBfoeBqJt7lpjiEAdehxARrVMQIT7Ad7hb9m+eaC3X\n",
       "hGEdoPr3EovDjEQH50N1PRKS+nRqA2ct7bv5FMfcmPR/JD6VmRpFVCjmq4DsroKBrX8LFIWPP1Ml\n",
       "M776j8C5QnMsP14zyPIrHNdosE/TaTmWnVr+AGnHTRmai/+TUxEVWpMG/tQnjXeEZrzFP4KviI2b\n",
       "CBVsKXCwJokEYUy6031T7w/HrOnQG0JsIQ/w5q+7xeO0KhxRsUTiwIEKSyOW4j6XOi/FmAG3Oh+d\n",
       "clblzHkc86hdI7gASCkSBQEgX2oKiKdSYIVD4kywxmQ05RPsUNCI+RswsFbQObqOFyPTca8HKAfH\n",
       "Zc+ScJ8HfYh61bZTDjZLMGoPPvKbmaPLh4RiFoFHTYKpI1ezN42zM8+w15GRb1S1MavmaJ2DhSgp\n",
       "awbW5tpo//fGNcCjHmsSFmbVtQpZgrcO1CODrNVl3NiZKdNR1QYLUv/cp0HGKPOUtqSKipR5taiw\n",
       "tAwQHerfsYkC8qwpOZf5Z/Av+4TdJu3+jyOulACOtRImDgAideBY1LjhAh9FBF+zaufsxEcQbpB7\n",
       "4q0pwigdZLjApciwJSViz94uE9CgJGiJMfmY8gYHdsu3xprQp2vQj5c5iaB6nZ+lsjLQTwmjASSI\n",
       "JXLPqyWb5NWwHex9486CDxVufDHx627fNumvOU3RkZ0rUZ0JLjjSlu/WwiQBRtEdiKMUleqkEB3v\n",
       "2yVL2Ygusf0Guw19TFIwnb/GgdgyzZlHqtp76wegrG8IKDYSCpUWzXC11PmCERT11T3ngKfpMHXQ\n",
       "5iHV3HM6Z0tkIGxRN5I28GoBtILFErZJX/ooSxMpevToIs44vndGQJW2lWVpee6ttouph3yEfOZ4\n",
       "H/X0T+IQOpeJ0hVaGElqQuefUuqRnVWylo2YF/Mz2WTPS/Jo0mZfJEL4brFaYW9CcmAJr37BN7hj\n",
       "nME4X5zqeQFgu8n0kM/Vtg+/ns9xHq5W89UNYV+dToUWg8SbFp2K8ZSMRnld4kePHrsNfrDaoc3h\n",
       "guPCoHhBtIPf/VPLYM9tso/3BuGAsV2Y3gs1LH6nTbym+/2JrbQuKXhK8/0sdff0b8iGHTagI5Il\n",
       "3maQAzEiRRtSZu0B8DP2+PF2FlZnwSRJUQOPm6lFuL4OMHQ/vSvYhr8185BgKwXvIhGQwnQBzAPD\n",
       "zmBMf8VBpxnC/Jpl2bJX+5mDS+jnW9VhR/FFOgsrvY8w8xge7MVV0V55/gUbmQZTnDl8J9fHdzUZ\n",
       "inCd4hRlU/58GKy8g1pSx4b30eMFMZYSzlmR5LOwCR1jjRse0eS7U6mEcYc4oD+vVxy8KIH1uTjx\n",
       "6nBpLTlRmzgv5nu1bB0KmVhJ2L1vPKFyfRQGaPjJr7gzazgVHCSfwrj2I8fxdzSe/QMFDyTtqcNY\n",
       "odfY4Ja4plA1lZ8QKj0W5Sf9cD3yAbA33yUpNQIeDWQ7eTcRjtxZtHu3HXKZA9czt4Us8b2WXE0f\n",
       "YgBius/8tRVTB9XSsKNvFR2kJrg/PqUpqFb6DBQpabwauyPbd/oE5Zg1qOSAyVp5ibgf1OoDOIrn\n",
       "BBGgldRRwu8xskBFTe6WIaNx/3uhCAV0Dw2xUqc3J2RyoOy+cejzRi4qllCMS2IExVFvcihUI1FD\n",
       "BfAqA/X4tXBaj4xwMffQyXvDTGAyTNggUn6Vp7h794F5wFvqBTvwa1ch9ZaDEpN3C+50ZhceBiup\n",
       "/xaAPNfw1c6Z7CTPDNe0AOeaC02aztHeXy2Z7r1U82/1sBcYB/DY8fBY05Of2QCeHdIyUCbZzZvJ\n",
       "Fd/AANRzc0StYEnBAAABeUGaI2xC//6MsDD4nJznwA9kmHaypyD5+r5VIApMCpORX+fIaJULt4ux\n",
       "eVC2c0elug1lbCS66CZMhPRiSTkxyg3oUfGz9/Te2gDyaoWzR6CVyUwAPgQg7Amn8vOWkfwYtkxw\n",
       "fVnO721SMAsBVgS2yev/uRzdYeglGokOznooUZkQg46oL6ZnJcP0swzqHPA4hPbKX2/Cq8FMZ5Ou\n",
       "IQ6JcCdUWXc9fiRPBR0tp755IzUksFs82Uh/7lv/hi++dC7iqt3NHD1h70cxxdvOV7y0HC6BGblp\n",
       "fMHKKfC4lVnG57HVzL9z0zCf48Z2FwipNz3Ds+Puji2iqCSmxexhi8pPiiP15TaP+DdnS+CMUQnJ\n",
       "aaBU/kTFP8DDo90EyVhsRpuxlgp+Ba2xXQxkVgt6PEL3hslaF4aZLwvjpaCemeNLawp6dcJsmtQj\n",
       "8uQnT4fbXXEPH9tDScNdCFylO+bdkOETwM8P8s64e1oyN+Nvk1eEU3BRyFJB5Q31x1WuAAAAgUGe\n",
       "QXiEfwP+V/Jyb68NQ2s7VN93ZSJto1Bfw5f2AAWD+3rKN+Xw2ChDA8NIsqLFcdbMUduQajp2PK4J\n",
       "h6tC3ptPY1kTbOKqdv3nIMI78Deemz+0uC+B0woUXlGX7EkUsP02g92B3RtMgN+SCIcVi/GpKK4M\n",
       "YchpdruNeW/NuhXPgQAAAD0BnmJqR/8AVhpd+CcToKUAAD9x052xdpUnRuwQp5ymw+sznj+jaWLw\n",
       "aZg+Fm9P+n8b7E9+O9iQ/GO/ZS+6AAAASkGaZkmoQWiZTAhf//6MsAFK3UsszpG2cX3/S1e7DjGA\n",
       "DYxUnbgzzHhbms1kpCNh6b2Ox8FftI86PbN5chWVmo/cOhK0qu4jFNhhAAAAUEGehEURLCP/BBlW\n",
       "86+uzlh42QJRyWjxLDAmNeCpewAEPystWHY471W8oCQyxBuVEAXcKSd85eMVGYGXtfW2GsjEcGJv\n",
       "6S5QlcDUEuMwN+thAAAANAGepWpH/wZvx0Jn8MhEz/7GE3GDb7xAASlcTYmZ2FJobicLSXAJns1s\n",
       "/1UBrRdmDvPdRqEAAABBQZqnSahBbJlMCF///oywAUoK4dj8Zqe0pspgOQgBBhT76zQZ0sQ0Jglc\n",
       "BE+jnEatRLnoHLFGvcOS7aVv0iwr3eEAAABdQZrLSeEKUmUwIX/+jLABSk4JZx5YHXwAPg6ynG8W\n",
       "wEweYRu19TE6VrQkWG+nSSC31B64hzNgkoS2uHmhx1qIj/jLcc3ETczh6MVD3UM/Z5dyG3o8pFsp\n",
       "26cVrPCAAAAAM0Ge6UU0TCP/BDG0gBqWcTUvK/tJx+nBgbvkK+lM5dwTuE2XDtkdZdlhyOMs74Ki\n",
       "dj+kgAAAACYBnwh0R/8Gaw+eRfLYYyzxnnDk8ADyuHggsc+4xEm7+83c08AHRQAAAB0BnwpqR/8G\n",
       "b8dCaIrfgAEpdSwcWjiYKK+JanuL6AAAADdBmw9JqEFomUwIX//+jLABSadY7aviAEvpqxSKfft1\n",
       "nN1wcJSYDvFGfjtXat8Lvw9ZTupvxgzwAAAAMEGfLUURLCP/BDJofXgWcTk+PMwAAuVNcrEeaixX\n",
       "ZTOch7ZNsBsxsuKjOLVCD2NVsQAAACEBn0x0R/8Gaw+fAKzYxY8QAlsPlirxMmDEbXzgrTrS19EA\n",
       "AAAjAZ9Oakf/Bm/HQb2jlaSLFJgAfvHcAz9QXwgmJMwjcWHwmYEAAAAmQZtTSahBbJlMCE///fEA\n",
       "DDxiL8cTAAeRaGbu2mB6BdY/M8jMB+QAAAAoQZ9xRRUsI/8EMmh9eBZxOT48H1vVJvyp6358kt2W\n",
       "NoNafFurovi6SAAAAB4Bn5B0R/8Gaw/6+az5Iv4ACVpowfNGcG9xKlf+GBEAAAAgAZ+Sakf/Bm/H\n",
       "eP+1cNv4vbcABX519Slr9oAuPhsdHpAAAAAaQZuVSahBbJlMFEx//IQAS785b181M5zgKmAAAAAw\n",
       "AZ+0akf/BnHyBj/RlMo01DAAFfUteYvXCdxZJBuasjdeB1N4UWHY7XY2PUQKFN2xAAAEJm1vb3YA\n",
       "AABsbXZoZAAAAAAAAAAAAAAAAAAAA+gAAAG4AAEAAAEAAAAAAAAAAAAAAAABAAAAAAAAAAAAAAAA\n",
       "AAAAAQAAAAAAAAAAAAAAAAAAQAAAAAAAAAAAAAAAAAAAAAAAAAAAAAAAAAAAAAAAAAIAAANQdHJh\n",
       "awAAAFx0a2hkAAAAAwAAAAAAAAAAAAAAAQAAAAAAAAG4AAAAAAAAAAAAAAAAAAAAAAABAAAAAAAA\n",
       "AAAAAAAAAAAAAQAAAAAAAAAAAAAAAAAAQAAAAAGwAAABIAAAAAAAJGVkdHMAAAAcZWxzdAAAAAAA\n",
       "AAABAAABuAAAAgAAAQAAAAACyG1kaWEAAAAgbWRoZAAAAAAAAAAAAAAAAAAAMgAAABYAVcQAAAAA\n",
       "AC1oZGxyAAAAAAAAAAB2aWRlAAAAAAAAAAAAAAAAVmlkZW9IYW5kbGVyAAAAAnNtaW5mAAAAFHZt\n",
       "aGQAAAABAAAAAAAAAAAAAAAkZGluZgAAABxkcmVmAAAAAAAAAAEAAAAMdXJsIAAAAAEAAAIzc3Ri\n",
       "bAAAALNzdHNkAAAAAAAAAAEAAACjYXZjMQAAAAAAAAABAAAAAAAAAAAAAAAAAAAAAAGwASAASAAA\n",
       "AEgAAAAAAAAAAQAAAAAAAAAAAAAAAAAAAAAAAAAAAAAAAAAAAAAAAAAAABj//wAAADFhdmNDAWQA\n",
       "Hv/hABhnZAAerNlBsJaEAAADAAQAAAMBkDxYtlgBAAZo6+PLIsAAAAAcdXVpZGtoQPJfJE/Fujml\n",
       "G88DI/MAAAAAAAAAGHN0dHMAAAAAAAAAAQAAABYAAAEAAAAAFHN0c3MAAAAAAAAAAQAAAAEAAACw\n",
       "Y3R0cwAAAAAAAAAUAAAAAQAAAgAAAAABAAAEAAAAAAIAAAEAAAAAAQAABAAAAAACAAABAAAAAAEA\n",
       "AAIAAAAAAQAABQAAAAABAAACAAAAAAEAAAAAAAAAAQAAAQAAAAABAAAFAAAAAAEAAAIAAAAAAQAA\n",
       "AAAAAAABAAABAAAAAAEAAAUAAAAAAQAAAgAAAAABAAAAAAAAAAEAAAEAAAAAAQAAAwAAAAABAAAB\n",
       "AAAAABxzdHNjAAAAAAAAAAEAAAABAAAAFgAAAAEAAABsc3RzegAAAAAAAAAAAAAAFgAAClcAAAF9\n",
       "AAAAhQAAAEEAAABOAAAAVAAAADgAAABFAAAAYQAAADcAAAAqAAAAIQAAADsAAAA0AAAAJQAAACcA\n",
       "AAAqAAAALAAAACIAAAAkAAAAHgAAADQAAAAUc3RjbwAAAAAAAAABAAAALAAAAGJ1ZHRhAAAAWm1l\n",
       "dGEAAAAAAAAAIWhkbHIAAAAAAAAAAG1kaXJhcHBsAAAAAAAAAAAAAAAALWlsc3QAAAAlqXRvbwAA\n",
       "AB1kYXRhAAAAAQAAAABMYXZmNTguMjkuMTAw\n",
       "\">\n",
       "  Your browser does not support the video tag.\n",
       "</video>"
      ],
      "text/plain": [
       "<IPython.core.display.HTML object>"
      ]
     },
     "execution_count": 19,
     "metadata": {},
     "output_type": "execute_result"
    },
    {
     "data": {
      "text/plain": [
       "<Figure size 1080x1080 with 0 Axes>"
      ]
     },
     "metadata": {},
     "output_type": "display_data"
    },
    {
     "data": {
      "image/png": "[encoded data removed]",
      "text/plain": [
       "<Figure size 432x288 with 1 Axes>"
      ]
     },
     "metadata": {
      "needs_background": "light"
     },
     "output_type": "display_data"
    }
   ],
   "source": [
    "rocket = RectRocket(600,320,3,1)\n",
    "target = Target(25,0.01,50,0.01,100,320)\n",
    "world = World(rocket,target)\n",
    "\n",
    "\n",
    "HTML(plot_images(world.run()).to_html5_video())\n",
    "\n"
   ]
  },
  {
   "cell_type": "code",
   "execution_count": 20,
   "metadata": {
    "colab": {
     "base_uri": "https://localhost:8080/",
     "height": 282
    },
    "colab_type": "code",
    "id": "oUw5vNPODea2",
    "outputId": "0d8a8fe4-1f89-4403-a210-fc29c4509eb7"
   },
   "outputs": [
    {
     "data": {
      "text/plain": [
       "[<matplotlib.lines.Line2D at 0x20e6442ab70>]"
      ]
     },
     "execution_count": 20,
     "metadata": {},
     "output_type": "execute_result"
    },
    {
     "data": {
      "image/png": "[encoded data removed]",
      "text/plain": [
       "<Figure size 432x288 with 1 Axes>"
      ]
     },
     "metadata": {
      "needs_background": "light"
     },
     "output_type": "display_data"
    }
   ],
   "source": [
    "plt.plot(world.distance)"
   ]
  },
  {
   "cell_type": "code",
   "execution_count": null,
   "metadata": {
    "colab": {},
    "colab_type": "code",
    "id": "wJRfpF5hDea5"
   },
   "outputs": [],
   "source": []
  },
  {
   "cell_type": "code",
   "execution_count": null,
   "metadata": {},
   "outputs": [],
   "source": []
  }
 ],
 "metadata": {
  "colab": {
   "collapsed_sections": [],
   "name": "Lab6.ipynb",
   "provenance": []
  },
  "kernelspec": {
   "display_name": "Python 3",
   "language": "python",
   "name": "python3"
  },
  "language_info": {
   "codemirror_mode": {
    "name": "ipython",
    "version": 3
   },
   "file_extension": ".py",
   "mimetype": "text/x-python",
   "name": "python",
   "nbconvert_exporter": "python",
   "pygments_lexer": "ipython3",
   "version": "3.6.10"
  }
 },
 "nbformat": 4,
 "nbformat_minor": 1
}
