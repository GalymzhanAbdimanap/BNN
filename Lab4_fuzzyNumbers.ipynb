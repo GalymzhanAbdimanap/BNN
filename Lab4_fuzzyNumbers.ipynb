{
 "cells": [
  {
   "cell_type": "markdown",
   "metadata": {
    "colab_type": "text",
    "id": "2-LKSTOBciPO"
   },
   "source": [
    "### Laboratory work 5: Fuzzy Numbers\n",
    "The task of the lab is to develop the fuzzy operations:\n",
    "* Division in the method __truediv__\n",
    "* Summation in the method __add__"
   ]
  },
  {
   "cell_type": "code",
   "execution_count": 10,
   "metadata": {
    "colab": {},
    "colab_type": "code",
    "id": "LZUfuApMcLPd"
   },
   "outputs": [],
   "source": [
    "import numpy as np\n",
    "import matplotlib.pyplot as plt\n",
    "from functools import partial"
   ]
  },
  {
   "cell_type": "code",
   "execution_count": 39,
   "metadata": {
    "colab": {
     "base_uri": "https://localhost:8080/",
     "height": 50
    },
    "colab_type": "code",
    "executionInfo": {
     "elapsed": 1507,
     "status": "ok",
     "timestamp": 1584368816484,
     "user": {
      "displayName": "Александр Пак",
      "photoUrl": "https://lh3.googleusercontent.com/a-/AOh14GjdCzf4-MPtNgWKgC53bEiRt-B4C0b6WppV7lwh=s64",
      "userId": "15550640353612535544"
     },
     "user_tz": -360
    },
    "id": "v8F6CuBUcDnl",
    "outputId": "7b9f687c-64c9-4754-82f2-8708996ce6fe"
   },
   "outputs": [],
   "source": [
    "def mu_max(val,width,x):\n",
    "    buff = ((x-val)/width)*((x-val)/width)\n",
    "    return max(0,1-buff)  \n",
    "\n",
    "\n",
    "class FuzzyValue():\n",
    "    \n",
    "    def __init__(self,val,width,mu = None):\n",
    "        self.val = float(val)\n",
    "        self.width = float(width)\n",
    "        if mu is not None:\n",
    "            self.mu = partial(mu,self.val,self.width)\n",
    "        self.op = None\n",
    "    \n",
    "\n",
    "    def __call__(self,x):\n",
    "        if self.mu is not None:\n",
    "            return float(self.mu(x))\n",
    "\n",
    "\n",
    "    def __truediv__(self, o):\n",
    "        # Put your code here\n",
    "        return max(self.val/o.val, self.val/o.width, self.width/o.val, self.width/o.width), min(self.val/o.val, self.val/o.width, self.width/o.val, self.width/o.width)\n",
    "        #return FuzzyValue(self.val/o.val,self.width+o.width)\n",
    "\n",
    "    def __add__(self, o): \n",
    "        # Put your code here\n",
    "        self.op = o\n",
    "        \n",
    "        return self.val+o.val, self.width+o.width\n",
    "    \n",
    "    def draw(self):\n",
    "        xs = np.linspace(-7,14,num=1000)\n",
    "        y = [self(x) for x in xs]\n",
    "        plt.figure()\n",
    "        plt.plot(xs,y)        \n",
    "\n",
    "a = FuzzyValue(5.1,1.5,mu_max)\n",
    "b = FuzzyValue(4.3,2,mu_max)\n",
    "# (a+b).draw()\n",
    "#print(b(3))\n",
    "#c=a+b\n",
    "#d=\n",
    "\n"
   ]
  },
  {
   "cell_type": "code",
   "execution_count": 40,
   "metadata": {},
   "outputs": [
    {
     "name": "stdout",
     "output_type": "stream",
     "text": [
      "(9.399999999999999, 3.5)\n",
      "(2.55, 0.3488372093023256)\n"
     ]
    }
   ],
   "source": [
    "print(a+b)\n",
    "print(a/b)"
   ]
  },
  {
   "cell_type": "code",
   "execution_count": 37,
   "metadata": {
    "colab": {
     "base_uri": "https://localhost:8080/",
     "height": 282
    },
    "colab_type": "code",
    "executionInfo": {
     "elapsed": 1111,
     "status": "ok",
     "timestamp": 1584368818233,
     "user": {
      "displayName": "Александр Пак",
      "photoUrl": "https://lh3.googleusercontent.com/a-/AOh14GjdCzf4-MPtNgWKgC53bEiRt-B4C0b6WppV7lwh=s64",
      "userId": "15550640353612535544"
     },
     "user_tz": -360
    },
    "id": "dAb_qAfQcSsd",
    "outputId": "ec0c3a33-3128-4487-93d9-b2dd3c9be11d"
   },
   "outputs": [
    {
     "data": {
      "image/png": "[encoded data removed]",
      "text/plain": [
       "<Figure size 432x288 with 1 Axes>"
      ]
     },
     "metadata": {
      "needs_background": "light"
     },
     "output_type": "display_data"
    }
   ],
   "source": [
    "res_add = a+b\n",
    "add_val = FuzzyValue(res_add[0],res_add[1],mu_max)\n",
    "add_val.draw()"
   ]
  },
  {
   "cell_type": "code",
   "execution_count": 38,
   "metadata": {
    "colab": {
     "base_uri": "https://localhost:8080/",
     "height": 1000
    },
    "colab_type": "code",
    "executionInfo": {
     "elapsed": 1107,
     "status": "ok",
     "timestamp": 1584368787906,
     "user": {
      "displayName": "Александр Пак",
      "photoUrl": "https://lh3.googleusercontent.com/a-/AOh14GjdCzf4-MPtNgWKgC53bEiRt-B4C0b6WppV7lwh=s64",
      "userId": "15550640353612535544"
     },
     "user_tz": -360
    },
    "id": "JVt8GdQkvPtM",
    "outputId": "42c71141-2074-4942-97ba-3b8a598f90dc"
   },
   "outputs": [
    {
     "data": {
      "image/png": "[encoded data removed]",
      "text/plain": [
       "<Figure size 432x288 with 1 Axes>"
      ]
     },
     "metadata": {
      "needs_background": "light"
     },
     "output_type": "display_data"
    }
   ],
   "source": [
    "res_div = a/b\n",
    "div_val = FuzzyValue(res_div[0],res_div[1],mu_max)\n",
    "div_val.draw()"
   ]
  },
  {
   "cell_type": "code",
   "execution_count": null,
   "metadata": {},
   "outputs": [],
   "source": []
  }
 ],
 "metadata": {
  "colab": {
   "authorship_tag": "ABX9TyNytzTs+jQqUQVDMeudwdg1",
   "name": "Lab5.ipynb",
   "provenance": []
  },
  "kernelspec": {
   "display_name": "Python 3",
   "language": "python",
   "name": "python3"
  },
  "language_info": {
   "codemirror_mode": {
    "name": "ipython",
    "version": 3
   },
   "file_extension": ".py",
   "mimetype": "text/x-python",
   "name": "python",
   "nbconvert_exporter": "python",
   "pygments_lexer": "ipython3",
   "version": "3.6.10"
  }
 },
 "nbformat": 4,
 "nbformat_minor": 1
}
